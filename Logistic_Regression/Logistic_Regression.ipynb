{
 "cells": [
  {
   "cell_type": "code",
   "execution_count": 1,
   "id": "6533513c-e600-4381-8487-b3c504f919c5",
   "metadata": {},
   "outputs": [],
   "source": [
    "import numpy as np\n",
    "import pandas as pd\n",
    "import matplotlib.pyplot as plt"
   ]
  },
  {
   "cell_type": "code",
   "execution_count": 2,
   "id": "675a03d7-52c1-44ac-aaaa-eac22aa13ea0",
   "metadata": {},
   "outputs": [
    {
     "data": {
      "text/html": [
       "<div>\n",
       "<style scoped>\n",
       "    .dataframe tbody tr th:only-of-type {\n",
       "        vertical-align: middle;\n",
       "    }\n",
       "\n",
       "    .dataframe tbody tr th {\n",
       "        vertical-align: top;\n",
       "    }\n",
       "\n",
       "    .dataframe thead th {\n",
       "        text-align: right;\n",
       "    }\n",
       "</style>\n",
       "<table border=\"1\" class=\"dataframe\">\n",
       "  <thead>\n",
       "    <tr style=\"text-align: right;\">\n",
       "      <th></th>\n",
       "      <th>Survived</th>\n",
       "      <th>Pclass</th>\n",
       "      <th>Name</th>\n",
       "      <th>Sex</th>\n",
       "      <th>Age</th>\n",
       "      <th>Siblings/Spouses Aboard</th>\n",
       "      <th>Parents/Children Aboard</th>\n",
       "      <th>Fare</th>\n",
       "    </tr>\n",
       "  </thead>\n",
       "  <tbody>\n",
       "    <tr>\n",
       "      <th>0</th>\n",
       "      <td>0</td>\n",
       "      <td>3</td>\n",
       "      <td>Mr. Owen Harris Braund</td>\n",
       "      <td>0</td>\n",
       "      <td>22.0</td>\n",
       "      <td>1</td>\n",
       "      <td>0</td>\n",
       "      <td>7.2500</td>\n",
       "    </tr>\n",
       "    <tr>\n",
       "      <th>1</th>\n",
       "      <td>1</td>\n",
       "      <td>1</td>\n",
       "      <td>Mrs. John Bradley (Florence Briggs Thayer) Cum...</td>\n",
       "      <td>1</td>\n",
       "      <td>38.0</td>\n",
       "      <td>1</td>\n",
       "      <td>0</td>\n",
       "      <td>71.2833</td>\n",
       "    </tr>\n",
       "    <tr>\n",
       "      <th>2</th>\n",
       "      <td>1</td>\n",
       "      <td>3</td>\n",
       "      <td>Miss. Laina Heikkinen</td>\n",
       "      <td>1</td>\n",
       "      <td>26.0</td>\n",
       "      <td>0</td>\n",
       "      <td>0</td>\n",
       "      <td>7.9250</td>\n",
       "    </tr>\n",
       "    <tr>\n",
       "      <th>3</th>\n",
       "      <td>1</td>\n",
       "      <td>1</td>\n",
       "      <td>Mrs. Jacques Heath (Lily May Peel) Futrelle</td>\n",
       "      <td>1</td>\n",
       "      <td>35.0</td>\n",
       "      <td>1</td>\n",
       "      <td>0</td>\n",
       "      <td>53.1000</td>\n",
       "    </tr>\n",
       "    <tr>\n",
       "      <th>4</th>\n",
       "      <td>0</td>\n",
       "      <td>3</td>\n",
       "      <td>Mr. William Henry Allen</td>\n",
       "      <td>0</td>\n",
       "      <td>35.0</td>\n",
       "      <td>0</td>\n",
       "      <td>0</td>\n",
       "      <td>8.0500</td>\n",
       "    </tr>\n",
       "    <tr>\n",
       "      <th>...</th>\n",
       "      <td>...</td>\n",
       "      <td>...</td>\n",
       "      <td>...</td>\n",
       "      <td>...</td>\n",
       "      <td>...</td>\n",
       "      <td>...</td>\n",
       "      <td>...</td>\n",
       "      <td>...</td>\n",
       "    </tr>\n",
       "    <tr>\n",
       "      <th>572</th>\n",
       "      <td>0</td>\n",
       "      <td>3</td>\n",
       "      <td>Mr. George Patchett</td>\n",
       "      <td>0</td>\n",
       "      <td>19.0</td>\n",
       "      <td>0</td>\n",
       "      <td>0</td>\n",
       "      <td>14.5000</td>\n",
       "    </tr>\n",
       "    <tr>\n",
       "      <th>573</th>\n",
       "      <td>1</td>\n",
       "      <td>2</td>\n",
       "      <td>Miss. Ethel Garside</td>\n",
       "      <td>1</td>\n",
       "      <td>34.0</td>\n",
       "      <td>0</td>\n",
       "      <td>0</td>\n",
       "      <td>13.0000</td>\n",
       "    </tr>\n",
       "    <tr>\n",
       "      <th>574</th>\n",
       "      <td>1</td>\n",
       "      <td>1</td>\n",
       "      <td>Mrs. William Baird (Alice Munger) Silvey</td>\n",
       "      <td>1</td>\n",
       "      <td>39.0</td>\n",
       "      <td>1</td>\n",
       "      <td>0</td>\n",
       "      <td>55.9000</td>\n",
       "    </tr>\n",
       "    <tr>\n",
       "      <th>575</th>\n",
       "      <td>0</td>\n",
       "      <td>3</td>\n",
       "      <td>Mrs. Joseph (Maria Elias) Caram</td>\n",
       "      <td>1</td>\n",
       "      <td>18.0</td>\n",
       "      <td>1</td>\n",
       "      <td>0</td>\n",
       "      <td>14.4583</td>\n",
       "    </tr>\n",
       "    <tr>\n",
       "      <th>576</th>\n",
       "      <td>1</td>\n",
       "      <td>3</td>\n",
       "      <td>Mr. Eiriik Jussila</td>\n",
       "      <td>0</td>\n",
       "      <td>32.0</td>\n",
       "      <td>0</td>\n",
       "      <td>0</td>\n",
       "      <td>7.9250</td>\n",
       "    </tr>\n",
       "  </tbody>\n",
       "</table>\n",
       "<p>577 rows × 8 columns</p>\n",
       "</div>"
      ],
      "text/plain": [
       "     Survived  Pclass                                               Name  Sex  \\\n",
       "0           0       3                             Mr. Owen Harris Braund    0   \n",
       "1           1       1  Mrs. John Bradley (Florence Briggs Thayer) Cum...    1   \n",
       "2           1       3                              Miss. Laina Heikkinen    1   \n",
       "3           1       1        Mrs. Jacques Heath (Lily May Peel) Futrelle    1   \n",
       "4           0       3                            Mr. William Henry Allen    0   \n",
       "..        ...     ...                                                ...  ...   \n",
       "572         0       3                                Mr. George Patchett    0   \n",
       "573         1       2                                Miss. Ethel Garside    1   \n",
       "574         1       1           Mrs. William Baird (Alice Munger) Silvey    1   \n",
       "575         0       3                    Mrs. Joseph (Maria Elias) Caram    1   \n",
       "576         1       3                                 Mr. Eiriik Jussila    0   \n",
       "\n",
       "      Age  Siblings/Spouses Aboard  Parents/Children Aboard     Fare  \n",
       "0    22.0                        1                        0   7.2500  \n",
       "1    38.0                        1                        0  71.2833  \n",
       "2    26.0                        0                        0   7.9250  \n",
       "3    35.0                        1                        0  53.1000  \n",
       "4    35.0                        0                        0   8.0500  \n",
       "..    ...                      ...                      ...      ...  \n",
       "572  19.0                        0                        0  14.5000  \n",
       "573  34.0                        0                        0  13.0000  \n",
       "574  39.0                        1                        0  55.9000  \n",
       "575  18.0                        1                        0  14.4583  \n",
       "576  32.0                        0                        0   7.9250  \n",
       "\n",
       "[577 rows x 8 columns]"
      ]
     },
     "execution_count": 2,
     "metadata": {},
     "output_type": "execute_result"
    }
   ],
   "source": [
    "train_data = pd.read_csv(\"train.csv\")\n",
    "train_data['Sex'] = train_data['Sex'].map({'male': 0, 'female': 1})\n",
    "test_data = pd.read_csv(\"test.csv\")\n",
    "test_data['Sex'] = test_data['Sex'].map({'male': 0, 'female': 1})\n",
    "train_data"
   ]
  },
  {
   "cell_type": "markdown",
   "id": "07816ee4-459f-4cdb-be2f-501808dd6bce",
   "metadata": {},
   "source": [
    "# Normalization"
   ]
  },
  {
   "cell_type": "code",
   "execution_count": 3,
   "id": "23e2c923-d586-434b-98a0-b9c89bb6fa19",
   "metadata": {},
   "outputs": [],
   "source": [
    "def z_score_normalization(x):\n",
    "    mean = np.mean(x, axis=0)\n",
    "    std_dev = np.std(x, axis=0)\n",
    "    normalized_x = (x - mean) / std_dev\n",
    "    return normalized_x"
   ]
  },
  {
   "cell_type": "code",
   "execution_count": 4,
   "id": "b7267324-51e9-4662-bc07-f4d7d6ef05c4",
   "metadata": {},
   "outputs": [],
   "source": [
    "x_train = train_data.drop(['Survived', 'Name'], axis=1).values\n",
    "x_train = z_score_normalization(x_train)\n",
    "\n",
    "y_train = train_data['Survived'].values"
   ]
  },
  {
   "cell_type": "code",
   "execution_count": 5,
   "id": "bd26f419-592e-4242-b149-4b2fdcd68143",
   "metadata": {},
   "outputs": [],
   "source": [
    "x_test = test_data.drop(['Survived', 'Name'], axis=1).values\n",
    "x_test = z_score_normalization(x_test)\n",
    "\n",
    "y_test = test_data['Survived'].values"
   ]
  },
  {
   "cell_type": "markdown",
   "id": "48214c49-62a0-4dc6-aa35-e36fd3699653",
   "metadata": {},
   "source": [
    "# Model"
   ]
  },
  {
   "cell_type": "code",
   "execution_count": 6,
   "id": "08168dfa-b6df-4aa2-815f-4253efafb2f4",
   "metadata": {},
   "outputs": [],
   "source": [
    "def f(x, w, b):\n",
    "    val = 1 / (1 + np.exp(-np.dot(x, w) - b))\n",
    "    thresholded_val = np.where(val < 0.5, 0, 1)\n",
    "    return thresholded_val"
   ]
  },
  {
   "cell_type": "markdown",
   "id": "1b694d8b-4289-4387-b773-3b82acbdce37",
   "metadata": {},
   "source": [
    "# Cost Function"
   ]
  },
  {
   "cell_type": "code",
   "execution_count": 7,
   "id": "91455741-5ff4-49ed-b439-a8a38fb4c11f",
   "metadata": {},
   "outputs": [],
   "source": [
    "def j(x, y, w, b):\n",
    "    m = len(y)\n",
    "    y_hat = f(x, w, b)\n",
    "\n",
    "    epsilon = 1e-15  # Small constant to avoid log(0) or log(1)\n",
    "    clipped_y_hat = np.clip(y_hat, epsilon, 1 - epsilon)  # Clip y_hat to be within (epsilon, 1-epsilon)\n",
    "\n",
    "    squared_error = (clipped_y_hat - y) ** 2\n",
    "    return (-1/m) * np.sum(y * np.log(clipped_y_hat) + (1 - y) * np.log(1 - clipped_y_hat))\n"
   ]
  },
  {
   "cell_type": "markdown",
   "id": "3d4f58e1-9af7-458e-85e0-ebaee05bd51b",
   "metadata": {},
   "source": [
    "# Gradient Descent"
   ]
  },
  {
   "cell_type": "code",
   "execution_count": 8,
   "id": "f2f2b817-b631-4852-82fa-7febccb4b82b",
   "metadata": {},
   "outputs": [],
   "source": [
    "def gradient_descent(x,y,w,b,alpha,epochs):\n",
    "    m = len(y)\n",
    "    costs = []\n",
    "    for i in range(epochs):\n",
    "        y_hat = f(x,w,b)\n",
    "        error = y_hat -y\n",
    "        \n",
    "        temp_w = w - (alpha/m)*np.dot(error,x)\n",
    "        temp_b = b - (alpha/m)*np.sum(error)\n",
    "        \n",
    "        w = temp_w\n",
    "        b = temp_b\n",
    "\n",
    "        cost = j(x,y,w,b)\n",
    "        costs.append(cost)\n",
    "        \n",
    "        if i%100 == 0:\n",
    "            print(\"Epoch: \",i)\n",
    "\n",
    "\n",
    "    plt.plot(range(1, epochs+1),costs, marker='o',linestyle='-')\n",
    "    plt.xlabel('Iteration')\n",
    "    plt.ylabel('J(w,b)')\n",
    "    plt.title('Learning Curve')\n",
    "    return w,b"
   ]
  },
  {
   "cell_type": "markdown",
   "id": "2051ac45-4c37-4937-a33c-8d8171da7c9c",
   "metadata": {},
   "source": [
    "# Accuracy"
   ]
  },
  {
   "cell_type": "code",
   "execution_count": 9,
   "id": "3ecf1c07-06d3-4fa0-829a-ac8e3af65532",
   "metadata": {},
   "outputs": [],
   "source": [
    "def f1_score(y_true, y_pred):\n",
    "    true_positives = np.sum((y_true == 1) & (y_pred == 1))\n",
    "    false_positives = np.sum((y_true == 0) & (y_pred == 1))\n",
    "    false_negatives = np.sum((y_true == 1) & (y_pred == 0))\n",
    "\n",
    "    precision = true_positives / (true_positives + false_positives)\n",
    "    recall = true_positives / (true_positives + false_negatives)\n",
    "\n",
    "    if precision + recall == 0:\n",
    "        return 0\n",
    "\n",
    "    f1_score = 2 * (precision * recall) / (precision + recall)\n",
    "    return f1_score"
   ]
  },
  {
   "cell_type": "markdown",
   "id": "70b1f370-ddcb-4f0f-be0f-2622b126ef60",
   "metadata": {},
   "source": [
    "# Training"
   ]
  },
  {
   "cell_type": "code",
   "execution_count": 10,
   "id": "75384156-595f-499a-b720-5ba54eb0ac14",
   "metadata": {},
   "outputs": [
    {
     "name": "stdout",
     "output_type": "stream",
     "text": [
      "Epoch:  0\n",
      "Epoch:  100\n",
      "Epoch:  200\n",
      "Epoch:  300\n",
      "Epoch:  400\n",
      "Epoch:  500\n",
      "Epoch:  600\n",
      "Epoch:  700\n",
      "Epoch:  800\n",
      "Epoch:  900\n",
      "Training Accuracy =  0.7227272727272726\n"
     ]
    },
    {
     "data": {
      "image/png": "[encoded data removed]",
      "text/plain": [
       "<Figure size 640x480 with 1 Axes>"
      ]
     },
     "metadata": {},
     "output_type": "display_data"
    }
   ],
   "source": [
    "w = np.zeros(x_train.shape[1])\n",
    "b = 0\n",
    "\n",
    "alpha = 0.001\n",
    "epochs = 1000\n",
    "\n",
    "w,b = gradient_descent(x_train,y_train,w,b,alpha,epochs)\n",
    "\n",
    "y_hat_train = f(x_train,w,b)\n",
    "f1_train = f1_score(y_train, y_hat_train)\n",
    "print(\"Training Accuracy = \",f1_train)"
   ]
  },
  {
   "cell_type": "markdown",
   "id": "7a8e79ef-1ee9-49d5-b546-2d86c399c30d",
   "metadata": {},
   "source": [
    "# Testing"
   ]
  },
  {
   "cell_type": "code",
   "execution_count": 11,
   "id": "fa1e655e-7190-4ac6-87e8-e0c2a8374ccb",
   "metadata": {},
   "outputs": [
    {
     "name": "stdout",
     "output_type": "stream",
     "text": [
      "Testing Accuracy =  0.7019230769230769\n"
     ]
    }
   ],
   "source": [
    "y_hat_test = f(x_test,w,b)\n",
    "f1_test = f1_score(y_test, y_hat_test)\n",
    "print(\"Testing Accuracy = \",f1_test)"
   ]
  }
 ],
 "metadata": {
  "kernelspec": {
   "display_name": "Python 3 (ipykernel)",
   "language": "python",
   "name": "python3"
  },
  "language_info": {
   "codemirror_mode": {
    "name": "ipython",
    "version": 3
   },
   "file_extension": ".py",
   "mimetype": "text/x-python",
   "name": "python",
   "nbconvert_exporter": "python",
   "pygments_lexer": "ipython3",
   "version": "3.12.0"
  }
 },
 "nbformat": 4,
 "nbformat_minor": 5
}
